{
  "nbformat": 4,
  "nbformat_minor": 0,
  "metadata": {
    "colab": {
      "provenance": [],
      "authorship_tag": "ABX9TyOkQf2KcmBX9d6gYzss3R/2",
      "include_colab_link": true
    },
    "kernelspec": {
      "name": "python3",
      "display_name": "Python 3"
    },
    "language_info": {
      "name": "python"
    }
  },
  "cells": [
    {
      "cell_type": "markdown",
      "metadata": {
        "id": "view-in-github",
        "colab_type": "text"
      },
      "source": [
        "<a href=\"https://colab.research.google.com/github/sadeem1976/Python-Projects/blob/main/Medlib_Game.ipynb\" target=\"_parent\"><img src=\"https://colab.research.google.com/assets/colab-badge.svg\" alt=\"Open In Colab\"/></a>"
      ]
    },
    {
      "cell_type": "code",
      "execution_count": 66,
      "metadata": {
        "colab": {
          "base_uri": "https://localhost:8080/"
        },
        "id": "GwYzyd9LKcIo",
        "outputId": "7290cbc8-b254-42ff-bdd4-78f5d926ce28"
      },
      "outputs": [
        {
          "output_type": "stream",
          "name": "stdout",
          "text": [
            "* * * * * * * * * * * * * * * * * * * * * * * * * * * * * * * * * * * * * * * * \n",
            "Welcome to the Mad Libs Game! -- Developed by Sadeem Ahmed, PIAIC student of Q1\n",
            "* * * * * * * * * * * * * * * * * * * * * * * * * * * * * * * * * * * * * * * * \n",
            "\n",
            "🔹 Round 1\n",
            "----------------------------------------\n",
            "1 --> I love eating [Food].\n",
            "2 --> Today, I am craving [Food].\n",
            "Choose a sentence (1 or 2), or type 'exit' to quit: 1\n",
            "Enter a food: hjhj\\\n",
            "❌ Invalid input. Please enter a valid food.\n",
            "\n",
            "🔹 Round 2\n",
            "----------------------------------------\n",
            "1 --> Nothing beats a plate of [Food] on a rainy day!\n",
            "2 --> I want to go to [Place].\n",
            "Choose a sentence (1 or 2), or type 'exit' to quit: exit\n",
            "🎉 Thanks for playing! Goodbye! 🎉\n"
          ]
        }
      ],
      "source": [
        "import random\n",
        "\n",
        "def Game():\n",
        "    text = [\n",
        "        \"I want to go to [Place].\",\n",
        "        \"I love eating [Food].\",\n",
        "        \"My favorite city is [Place].\",\n",
        "        \"Today, I am craving [Food].\",\n",
        "        \"I dream of visiting [Place] someday.\",\n",
        "        \"Nothing beats a plate of [Food] on a rainy day!\"\n",
        "    ]\n",
        "\n",
        "    print(\"* \" * 40)\n",
        "    print(\"Welcome to the Mad Libs Game! -- Developed by Sadeem Ahmed, PIAIC student of Q1\")\n",
        "    print(\"* \" * 40)\n",
        "\n",
        "    round_num = 1\n",
        "    while True:\n",
        "        print(f\"\\n🔹 Round {round_num}\")\n",
        "        print(\"-\" * 40)\n",
        "        round_num += 1\n",
        "\n",
        "        # Randomly select two sentences\n",
        "        sentences = random.sample(text, 2)\n",
        "\n",
        "        for i, sentence in enumerate(sentences, start=1):\n",
        "            print(f\"{i} --> {sentence}\")\n",
        "\n",
        "        try:\n",
        "            choice = input(\"Choose a sentence (1 or 2), or type 'exit' to quit: \").strip().lower()\n",
        "            if choice == \"exit\":\n",
        "                print(\"🎉 Thanks for playing! Goodbye! 🎉\")\n",
        "                break\n",
        "\n",
        "            if choice not in [\"1\", \"2\"]:\n",
        "                print(\"❌ Invalid choice. Please choose 1 or 2.\")\n",
        "                continue\n",
        "\n",
        "            selected_sentence = sentences[int(choice) - 1]\n",
        "\n",
        "            # Detect whether the placeholder is for Place or Food\n",
        "            if \"[Place]\" in selected_sentence:\n",
        "                user_input = input(\"Enter a place: \").strip()\n",
        "                if not user_input.replace(\" \", \"\").isalpha():\n",
        "                    print(\"❌ Invalid input. Please enter a valid place.\")\n",
        "                    continue\n",
        "                filled_sentence = selected_sentence.replace(\"[Place]\", user_input)\n",
        "\n",
        "            elif \"[Food]\" in selected_sentence:\n",
        "                user_input = input(\"Enter a food: \").strip()\n",
        "                if not user_input.replace(\" \", \"\").isalpha():\n",
        "                    print(\"❌ Invalid input. Please enter a valid food.\")\n",
        "                    continue\n",
        "                filled_sentence = selected_sentence.replace(\"[Food]\", user_input)\n",
        "\n",
        "            print(f\"\\n✅ {filled_sentence}\")\n",
        "\n",
        "        except Exception as e:\n",
        "            print(f\"❌ Error: {e}. Please try again.\")\n",
        "\n",
        "Game()\n"
      ]
    }
  ]
}